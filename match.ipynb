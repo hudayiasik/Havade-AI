{
 "cells": [
  {
   "cell_type": "markdown",
   "metadata": {},
   "source": [
    "# Test Hastags"
   ]
  },
  {
   "cell_type": "code",
   "execution_count": 10,
   "metadata": {},
   "outputs": [],
   "source": [
    "bbc_news_hashtags = {\n",
    "    \"news1\": [\n",
    "        \"#DonaldTrump\",\n",
    "        \"#DanaWhite\",\n",
    "        \"#UFC\",\n",
    "        \"#RNC\",\n",
    "        \"#MMA\",\n",
    "        \"#Republican\",\n",
    "        \"#JohnMcCain\",\n",
    "        \"#TrumpTajMahal\",\n",
    "        \"#AtlanticCity\",\n",
    "        \"#NewJersey\",\n",
    "        \"#USSenator\"\n",
    "    ],\n",
    "    \"news2\": [\n",
    "        \"#Fangirls\",\n",
    "        \"#HarryStyles\",\n",
    "        \"#Swifties\",\n",
    "        \"#TaylorSwift\",\n",
    "        \"#ErasTour\",\n",
    "        \"#YveBlake\",\n",
    "        \"#OneDirection\",\n",
    "        \"#ZaynMalik\",\n",
    "        \"#Musical\",\n",
    "        \"#SydneyOperaHouse\",\n",
    "        \"#LyricTheatre\",\n",
    "        \"#Hammersmith\",\n",
    "        \"#JasmineElcock\",\n",
    "        \"#BritainsGotTalent\"\n",
    "    ],\n",
    "    \"news3\" : [\n",
    "    \"#GreyhoundRacing\",\n",
    "    \"#AnimalCruelty\",\n",
    "    \"#Whistleblower\",\n",
    "    \"#Australia\",\n",
    "    \"#GRNSW\",\n",
    "    \"#NSW\",\n",
    "    \"#AlexBrittan\",\n",
    "    \"#AnimalWelfare\",\n",
    "    \"#DogRacing\",\n",
    "    \"#Injustice\",\n",
    "    \"#Inquiry\",\n",
    "    \"#DavidHarris\",\n",
    "    \"#ChrisMinns\",\n",
    "    \"#EmmaHurst\",\n",
    "    \"#Sydney\"\n",
    "],\n",
    "}\n",
    "guardian_news_hashtags = {\n",
    "    \"news1\": [\n",
    "    \"#GreyhoundRacing\",\n",
    "    \"#AnimalWelfare\",\n",
    "    \"#AnimalAbuse\",\n",
    "    \"#VeterinaryReport\",\n",
    "    \"#NSWInquiry\",\n",
    "    \"#PublicHearings\",\n",
    "    \"#WhistleblowerProtection\",\n",
    "    \"#ChrisMinns\",\n",
    "    \"#RacingIndustry\",\n",
    "    \"#GamblingIndustry\"\n",
    "]\n",
    "}\n",
    "\n",
    "cnn_news_hashtags = {\n",
    "    \"news1\": [\n",
    "        \"#SpaceExploration\",\n",
    "        \"#MarsMission\",\n",
    "        \"#NASA\",\n",
    "        \"#Astronauts\",\n",
    "        \"#SpaceStation\",\n",
    "        \"#InterstellarTravel\",\n",
    "        \"#Galaxies\",\n",
    "        \"#Astrobiology\",\n",
    "        \"#SpaceTechnology\",\n",
    "        \"#RocketScience\",\n",
    "        \"#CosmicDiscovery\"\n",
    "    ],\n",
    "    \"news2\": [\n",
    "        \"#ClimateChange\",\n",
    "        \"#SustainableLiving\",\n",
    "        \"#GreenEnergy\",\n",
    "        \"#RenewableResources\",\n",
    "        \"#EcoFriendly\",\n",
    "        \"#CarbonFootprint\",\n",
    "        \"#ClimateAction\",\n",
    "        \"#GlobalWarming\",\n",
    "        \"#EnvironmentalPolicy\",\n",
    "        \"#CleanEnergy\",\n",
    "        \"#EarthDay\"\n",
    "    ],\n",
    "    \"news3\": [\n",
    "        \"#DigitalNomads\",\n",
    "        \"#RemoteWork\",\n",
    "        \"#FreelanceLife\",\n",
    "        \"#WorkFromAnywhere\",\n",
    "        \"#OnlineBusiness\",\n",
    "        \"#VirtualTeams\",\n",
    "        \"#TravelAndWork\",\n",
    "        \"#GigEconomy\",\n",
    "        \"#DigitalMarketing\",\n",
    "        \"#HomeOffice\",\n",
    "        \"#WorkLifeBalance\"\n",
    "    ]\n",
    "}\n"
   ]
  },
  {
   "cell_type": "markdown",
   "metadata": {},
   "source": [
    "## Imports"
   ]
  },
  {
   "cell_type": "code",
   "execution_count": 6,
   "metadata": {},
   "outputs": [],
   "source": [
    "from sklearn.feature_extraction.text import CountVectorizer\n",
    "import numpy as np\n",
    "from sentence_transformers import SentenceTransformer\n",
    "from sklearn.metrics.pairwise import cosine_similarity"
   ]
  },
  {
   "cell_type": "markdown",
   "metadata": {},
   "source": [
    "## Define Model"
   ]
  },
  {
   "cell_type": "code",
   "execution_count": 7,
   "metadata": {},
   "outputs": [
    {
     "name": "stdout",
     "output_type": "stream",
     "text": [
      "WARNING:tensorflow:From C:\\Users\\huday\\AppData\\Roaming\\Python\\Python311\\site-packages\\keras\\src\\losses.py:2976: The name tf.losses.sparse_softmax_cross_entropy is deprecated. Please use tf.compat.v1.losses.sparse_softmax_cross_entropy instead.\n",
      "\n"
     ]
    }
   ],
   "source": [
    "model = SentenceTransformer('all-MiniLM-L6-v2')"
   ]
  },
  {
   "cell_type": "markdown",
   "metadata": {},
   "source": [
    "## PreProcess"
   ]
  },
  {
   "cell_type": "code",
   "execution_count": 11,
   "metadata": {},
   "outputs": [],
   "source": [
    "\n",
    "# Preprocess hashtags into strings\n",
    "def preprocess_hashtags(hashtags):\n",
    "    return ' '.join([hashtag.lower() for hashtag in hashtags])\n",
    "\n",
    "# Generate embeddings for each set of hashtags\n",
    "bbc_news_texts = {key: preprocess_hashtags(value) for key, value in bbc_news_hashtags.items()}\n",
    "guardian_news_texts = {key: preprocess_hashtags(value) for key, value in guardian_news_hashtags.items()}\n",
    "cnn_news_texts = {key: preprocess_hashtags(value) for key, value in cnn_news_hashtags.items()}\n",
    "\n",
    "bbc_embeddings = {key: model.encode(text) for key, text in bbc_news_texts.items()}\n",
    "guardian_embeddings = {key: model.encode(text) for key, text in guardian_news_texts.items()}\n",
    "cnn_embeddings = {key: model.encode(text) for key, text in cnn_news_texts.items()}\n",
    "\n"
   ]
  },
  {
   "cell_type": "markdown",
   "metadata": {},
   "source": [
    "## Calculate similarity"
   ]
  },
  {
   "cell_type": "code",
   "execution_count": 12,
   "metadata": {},
   "outputs": [
    {
     "name": "stdout",
     "output_type": "stream",
     "text": [
      "Similarity between Guardian news1 and Guardian news1: 0.35\n",
      "Similarity between CNN news1 and CNN news1: 0.36\n",
      "Similarity between CNN news1 and CNN news2: 0.30\n",
      "Similarity between CNN news1 and CNN news3: 0.30\n",
      "Similarity between Guardian news2 and Guardian news1: 0.36\n",
      "Similarity between CNN news2 and CNN news1: 1.00\n",
      "Similarity between CNN news2 and CNN news2: 0.26\n",
      "Similarity between CNN news2 and CNN news3: 0.23\n",
      "Similarity between Guardian news3 and Guardian news1: 0.75\n",
      "Similarity between CNN news3 and CNN news1: 0.41\n",
      "Similarity between CNN news3 and CNN news2: 0.36\n",
      "Similarity between CNN news3 and CNN news3: 0.30\n"
     ]
    }
   ],
   "source": [
    "\n",
    "# Calculate similarity scores between BBC, Guardian, and CNN news\n",
    "similarity_scores = {}\n",
    "for bbc_key, bbc_embed in bbc_embeddings.items():\n",
    "    for guardian_key, guardian_embed in guardian_embeddings.items():\n",
    "        score = cosine_similarity([bbc_embed], [guardian_embed])[0][0]\n",
    "        similarity_scores[(bbc_key, guardian_key, 'Guardian')] = score\n",
    "    \n",
    "    for cnn_key, cnn_embed in cnn_embeddings.items():\n",
    "        score = cosine_similarity([bbc_embed], [cnn_embed])[0][0]\n",
    "        similarity_scores[(bbc_key, cnn_key, 'CNN')] = score\n",
    "\n",
    "for guardian_key, guardian_embed in guardian_embeddings.items():\n",
    "    for cnn_key, cnn_embed in cnn_embeddings.items():\n",
    "        score = cosine_similarity([guardian_embed], [cnn_embed])[0][0]\n",
    "        similarity_scores[(guardian_key, cnn_key, 'CNN')] = score\n",
    "\n",
    "# Print the similarity scores\n",
    "for (news1_key, news2_key, source), score in similarity_scores.items():\n",
    "    print(f\"Similarity between {source} {news1_key} and {source} {news2_key}: {score:.2f}\")\n"
   ]
  }
 ],
 "metadata": {
  "kernelspec": {
   "display_name": "Python 3",
   "language": "python",
   "name": "python3"
  },
  "language_info": {
   "codemirror_mode": {
    "name": "ipython",
    "version": 3
   },
   "file_extension": ".py",
   "mimetype": "text/x-python",
   "name": "python",
   "nbconvert_exporter": "python",
   "pygments_lexer": "ipython3",
   "version": "3.11.4"
  }
 },
 "nbformat": 4,
 "nbformat_minor": 2
}
